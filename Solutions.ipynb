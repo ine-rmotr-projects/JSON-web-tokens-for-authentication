{
 "cells": [
  {
   "cell_type": "markdown",
   "metadata": {},
   "source": [
    "![ine-divider](https://user-images.githubusercontent.com/7065401/92672068-398e8080-f2ee-11ea-82d6-ad53f7feb5c0.png)\n",
    "<hr>\n",
    "\n",
    "### Secure RESTful APIs using Python\n",
    "\n",
    "# JSON Web Tokens for authentication\n",
    "\n",
    "This project asks you to utilize JWTs for structured authentication rules."
   ]
  },
  {
   "cell_type": "markdown",
   "metadata": {},
   "source": [
    "![orange-divider](https://user-images.githubusercontent.com/7065401/92672455-187a5f80-f2ef-11ea-890c-40be9474f7b7.png)"
   ]
  },
  {
   "cell_type": "markdown",
   "metadata": {},
   "source": [
    "## Part 1-5\n",
    "\n",
    "**Future tokens**\n",
    "\n",
    "Utilizing JWTs, and the PyJWT library specifically, we would like to create the following structured transaction:\n",
    "\n",
    "1. A client requests a token from a server, and is verified using a public-key keyserver.\n",
    "2. If client is a known user, it is granted a use token as a JWT.\n",
    "3. The use token may not be used until 10 seconds after it is granted and expires 30 seconds after it is granted.\n",
    "4. Any requests made to the root route are permitted in the authorized time window, but not outside it.  \n",
    "5. Requests to `/` will fail, of course, if a use token is not provided."
   ]
  },
  {
   "cell_type": "markdown",
   "metadata": {},
   "source": [
    "For these tasks, you should run the identical `keyserver.py` service discussed in the lesson.  Once you have the server in the task running, you should be able to get responses similar to the below (responses are lines from The Zen of Python in the example; you may return whatever you like):\n",
    "\n",
    "```python\n",
    "from time import sleep\n",
    "import requests\n",
    "import jwt\n",
    "\n",
    "client_private_key = open('client.key').read()\n",
    "reqtoken = jwt.encode({'iss': \"client\"}, client_private_key, \n",
    "                      algorithm=\"RS256\")\n",
    "resp = requests.post('http://localhost:5025/login', data=reqtoken)\n",
    "resptoken = resp.text\n",
    "print(jwt.decode(resptoken, verify=False))\n",
    "\n",
    "for _ in range(8):\n",
    "    resp = requests.post('http://localhost:5025', data=resptoken)\n",
    "    print(resp.status_code, resp.text)\n",
    "    sleep(5)\n",
    "```\n",
    "\n",
    "```\n",
    "{'nbf': 1619413878, 'exp': 1619413898}\n",
    "403 The token is not yet valid (nbf)\n",
    "403 The token is not yet valid (nbf)\n",
    "200 Although never is often better than *right* now.\n",
    "200 Now is better than never.\n",
    "200 Although that way may not be obvious at first unless you're Dutch.\n",
    "200 Now is better than never.\n",
    "200 Explicit is better than implicit.\n",
    "403 Signature has expired\n",
    "```"
   ]
  },
  {
   "cell_type": "markdown",
   "metadata": {},
   "source": [
    "This interaction should fail with appropriate HTTP status codes if the client does not provide valid credentials or if the wrong response token is provided."
   ]
  },
  {
   "cell_type": "markdown",
   "metadata": {},
   "source": [
    "**A possible solution**\n",
    "\n",
    "Note that as in the lesson, we are omitting the TLS layer which a real implementation would require, to make the example easier.  A server that implements this might look like:"
   ]
  },
  {
   "cell_type": "markdown",
   "metadata": {},
   "source": [
    "```python\n",
    "#!/usr/bin/env python\n",
    "from datetime import datetime, timedelta\n",
    "from random import shuffle\n",
    "from flask import Flask, abort, jsonify, request, make_response\n",
    "import requests\n",
    "import jwt\n",
    "import zen\n",
    "app = Flask(__name__)\n",
    "\n",
    "keyserver = \"http://localhost:5010/getkey\"\n",
    "server2_private_key = open('server2.key').read()\n",
    "server2_public_key = open('server2.key.pub').read()\n",
    "\n",
    "@app.route('/login', methods=['POST'])\n",
    "def login():\n",
    "    payload = jwt.decode(request.data, verify=False)\n",
    "    user = payload.get('iss')\n",
    "    resp = requests.get(f\"{keyserver}?identity={user}\")\n",
    "    # Check if this is name of real user\n",
    "    if resp.status_code != 200:\n",
    "        abort(401)\n",
    "    # Now find out if token really came from claimed user\n",
    "    try:\n",
    "        pubkey = resp.text\n",
    "        jwt.decode(request.data, pubkey, algorithm=\"RS256\")\n",
    "        nbf = datetime.utcnow() + timedelta(seconds=10)\n",
    "        exp = datetime.utcnow() + timedelta(seconds=30)\n",
    "        \n",
    "        token = jwt.encode({'nbf': nbf, 'exp': exp}, \n",
    "                           server2_private_key, algorithm=\"RS256\")\n",
    "        resp = make_response(token)\n",
    "        resp.mimetype = \"application/jwt\"\n",
    "        return resp\n",
    "    except Exception as err:\n",
    "        return make_response(str(err), 403)\n",
    "    \n",
    "@app.route('/', methods=['POST'])\n",
    "def q():\n",
    "    # Have I received a valid token I issues?\n",
    "    try:\n",
    "        jwt.decode(request.data, server2_public_key, algorithm=\"RS256\")\n",
    "        shuffle(zen.lines)\n",
    "        return make_response(zen.lines[-1])\n",
    "    except Exception as err:\n",
    "        return make_response(str(err), 403)\n",
    "         \n",
    "if __name__ == \"__main__\":\n",
    "    app.run(port=5025)\n",
    "```"
   ]
  },
  {
   "cell_type": "markdown",
   "metadata": {},
   "source": [
    "![orange-divider](https://user-images.githubusercontent.com/7065401/92672455-187a5f80-f2ef-11ea-890c-40be9474f7b7.png)"
   ]
  }
 ],
 "metadata": {
  "kernelspec": {
   "display_name": "Python 3",
   "language": "python",
   "name": "python3"
  },
  "language_info": {
   "codemirror_mode": {
    "name": "ipython",
    "version": 3
   },
   "file_extension": ".py",
   "mimetype": "text/x-python",
   "name": "python",
   "nbconvert_exporter": "python",
   "pygments_lexer": "ipython3",
   "version": "3.8.6"
  }
 },
 "nbformat": 4,
 "nbformat_minor": 4
}
